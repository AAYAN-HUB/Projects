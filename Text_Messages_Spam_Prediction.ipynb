{
  "nbformat": 4,
  "nbformat_minor": 0,
  "metadata": {
    "colab": {
      "name": "Text Messages Spam Prediction.ipynb",
      "provenance": [],
      "toc_visible": true
    },
    "kernelspec": {
      "name": "python3",
      "display_name": "Python 3"
    }
  },
  "cells": [
    {
      "cell_type": "markdown",
      "metadata": {
        "id": "DLY0B88lBs-s"
      },
      "source": [
        "**TEXT MESSAGES SPAM DETECTION USING JOHN SNOW NLP MODEL**"
      ]
    },
    {
      "cell_type": "markdown",
      "metadata": {
        "id": "2FinIBMWB3y7"
      },
      "source": [
        "Setting up Colab "
      ]
    },
    {
      "cell_type": "code",
      "metadata": {
        "colab": {
          "base_uri": "https://localhost:8080/"
        },
        "id": "BWp0drGJBq4v",
        "outputId": "e62abf52-567c-4de6-e1eb-9ad96da84a20"
      },
      "source": [
        "# Install java\r\n",
        "!apt-get update -qq\r\n",
        "!apt-get install -y openjdk-8-jdk-headless -qq > /dev/null\r\n",
        "!java -version\r\n",
        "\r\n",
        "# Install pyspark\r\n",
        "!pip install --ignore-installed -q pyspark==2.4.4\r\n",
        "\r\n",
        "# Install Sparknlp\r\n",
        "!pip install --ignore-installed spark-nlp"
      ],
      "execution_count": 1,
      "outputs": [
        {
          "output_type": "stream",
          "text": [
            "openjdk version \"11.0.10\" 2021-01-19\n",
            "OpenJDK Runtime Environment (build 11.0.10+9-Ubuntu-0ubuntu1.18.04)\n",
            "OpenJDK 64-Bit Server VM (build 11.0.10+9-Ubuntu-0ubuntu1.18.04, mixed mode, sharing)\n",
            "\u001b[K     |████████████████████████████████| 215.7MB 70kB/s \n",
            "\u001b[K     |████████████████████████████████| 204kB 47.6MB/s \n",
            "\u001b[?25h  Building wheel for pyspark (setup.py) ... \u001b[?25l\u001b[?25hdone\n",
            "Collecting spark-nlp\n",
            "\u001b[?25l  Downloading https://files.pythonhosted.org/packages/32/9e/2f43d668eefea486e7417c1e83554c72a41e0786976e9429846b753f5014/spark_nlp-2.7.3-py2.py3-none-any.whl (138kB)\n",
            "\u001b[K     |████████████████████████████████| 143kB 13.4MB/s \n",
            "\u001b[?25hInstalling collected packages: spark-nlp\n",
            "Successfully installed spark-nlp-2.7.3\n"
          ],
          "name": "stdout"
        }
      ]
    },
    {
      "cell_type": "code",
      "metadata": {
        "id": "TXy3cZSWBaWV"
      },
      "source": [
        "import pandas as pd\r\n",
        "import numpy as np\r\n",
        "import os\r\n",
        "os.environ[\"JAVA_HOME\"] = \"/usr/lib/jvm/java-8-openjdk-amd64\"\r\n",
        "os.environ[\"PATH\"] = os.environ[\"JAVA_HOME\"] + \"/bin:\" + os.environ[\"PATH\"]\r\n",
        "import json\r\n",
        "from pyspark.ml import Pipeline\r\n",
        "from pyspark.sql import SparkSession\r\n",
        "import pyspark.sql.functions as F\r\n",
        "from sparknlp.annotator import *\r\n",
        "from sparknlp.base import *\r\n",
        "import sparknlp\r\n",
        "from sparknlp.pretrained import PretrainedPipeline"
      ],
      "execution_count": 3,
      "outputs": []
    },
    {
      "cell_type": "markdown",
      "metadata": {
        "id": "3DNRuEMEBjmC"
      },
      "source": [
        "Start Spark Session "
      ]
    },
    {
      "cell_type": "code",
      "metadata": {
        "id": "EwFzaPHNBcFO"
      },
      "source": [
        "spark = sparknlp.start()"
      ],
      "execution_count": 49,
      "outputs": []
    },
    {
      "cell_type": "markdown",
      "metadata": {
        "id": "BNqtUUUlByNv"
      },
      "source": [
        "Select the DL model"
      ]
    },
    {
      "cell_type": "code",
      "metadata": {
        "id": "AcONkAM9BfDV"
      },
      "source": [
        "### Select Model\r\n",
        "model_name = 'classifierdl_use_spam'"
      ],
      "execution_count": 50,
      "outputs": []
    },
    {
      "cell_type": "code",
      "metadata": {
        "id": "Sle1sGpmCO-S"
      },
      "source": [
        "# text_list=[\r\n",
        "# \"\"\"Hiya do u like the hlday pics looked horrible in them so took mo out! Hows the camp Amrca thing? Speak soon Serena:)\"\"\",\r\n",
        "# \"\"\"U have a secret admirer who is looking 2 make contact with U-find out who they R*reveal who thinks UR so special-call on 09058094594\"\"\",]\r\n",
        "\r\n",
        "\r\n",
        "# import data\r\n",
        "df_pd = pd.read_csv('spamraw_train.csv')\r\n",
        "df = spark.createDataFrame(df_pd)"
      ],
      "execution_count": 51,
      "outputs": []
    },
    {
      "cell_type": "code",
      "metadata": {
        "colab": {
          "base_uri": "https://localhost:8080/"
        },
        "id": "dtIu5bweCYiP",
        "outputId": "7cd4cf34-0fbf-4a5a-e83b-41f7990dc308"
      },
      "source": [
        "df.show()"
      ],
      "execution_count": 52,
      "outputs": [
        {
          "output_type": "stream",
          "text": [
            "+---+--------------------+----+\n",
            "| id|            sms_text|spam|\n",
            "+---+--------------------+----+\n",
            "|  1|Hope you are havi...|   0|\n",
            "|  2|K..give back my t...|   0|\n",
            "|  3|Am also doing in ...|   0|\n",
            "|  4|complimentary 4 S...|   1|\n",
            "|  5|okmail: Dear Dave...|   1|\n",
            "|  6|Aiya we discuss l...|   0|\n",
            "|  7|Are you this much...|   0|\n",
            "|  8|Please ask mummy ...|   0|\n",
            "|  9|Marvel Mobile Pla...|   1|\n",
            "| 10|fyi I'm at usf no...|   0|\n",
            "| 11|Sure thing big ma...|   0|\n",
            "| 12|   I anything lor...|   0|\n",
            "| 13|By march ending, ...|   0|\n",
            "| 14|Hmm well, night n...|   0|\n",
            "| 15|K I'll be sure to...|   0|\n",
            "| 16|Ha ha cool cool c...|   0|\n",
            "| 17|Darren was saying...|   0|\n",
            "| 18|He dint tell anyt...|   0|\n",
            "| 19|Up to u... u wan ...|   0|\n",
            "| 20|U can WIN £100 of...|   1|\n",
            "+---+--------------------+----+\n",
            "only showing top 20 rows\n",
            "\n"
          ],
          "name": "stdout"
        }
      ]
    },
    {
      "cell_type": "code",
      "metadata": {
        "id": "QDpL4GBpCdFj"
      },
      "source": [
        "# Split the data\r\n",
        "\r\n",
        "train, test = df.randomSplit([0.80,0.20],seed=10)"
      ],
      "execution_count": 53,
      "outputs": []
    },
    {
      "cell_type": "code",
      "metadata": {
        "colab": {
          "base_uri": "https://localhost:8080/"
        },
        "id": "o0ZR05L8CdoV",
        "outputId": "10c536fe-58a1-4e73-9ea6-9224cb28e367"
      },
      "source": [
        "test.count()"
      ],
      "execution_count": 55,
      "outputs": [
        {
          "output_type": "execute_result",
          "data": {
            "text/plain": [
              "941"
            ]
          },
          "metadata": {
            "tags": []
          },
          "execution_count": 55
        }
      ]
    },
    {
      "cell_type": "markdown",
      "metadata": {
        "id": "swV9SeH6CmsJ"
      },
      "source": [
        "Define Spark NLP Pipeline"
      ]
    },
    {
      "cell_type": "code",
      "metadata": {
        "colab": {
          "base_uri": "https://localhost:8080/"
        },
        "id": "mpdGcRWWCfpI",
        "outputId": "e9875667-aae6-4c7f-f52c-4179c08e9f63"
      },
      "source": [
        "### Select Model\r\n",
        "model_name = 'classifierdl_use_spam'\r\n",
        "\r\n",
        "documentAssembler = DocumentAssembler()\\\r\n",
        "    .setInputCol(\"sms_text\")\\\r\n",
        "    .setOutputCol(\"document\")\r\n",
        "\r\n",
        "use = UniversalSentenceEncoder.pretrained(lang=\"en\") \\\r\n",
        " .setInputCols([\"document\"])\\\r\n",
        " .setOutputCol(\"sentence_embeddings\")\r\n",
        "\r\n",
        "document_classifier = ClassifierDLModel.pretrained(model_name)\\\r\n",
        "  .setInputCols(['document', 'sentence_embeddings']).setOutputCol(\"class\")\r\n",
        "\r\n",
        "nlpPipeline = Pipeline(stages=[\r\n",
        " documentAssembler, \r\n",
        " use,\r\n",
        " document_classifier\r\n",
        " ])\r\n"
      ],
      "execution_count": 56,
      "outputs": [
        {
          "output_type": "stream",
          "text": [
            "tfhub_use download started this may take some time.\n",
            "Approximate size to download 923.7 MB\n",
            "[OK!]\n",
            "classifierdl_use_spam download started this may take some time.\n",
            "Approximate size to download 21.3 MB\n",
            "[OK!]\n"
          ],
          "name": "stdout"
        }
      ]
    },
    {
      "cell_type": "markdown",
      "metadata": {
        "id": "AGfcZQNLCs8p"
      },
      "source": [
        "Run the Pipeline"
      ]
    },
    {
      "cell_type": "code",
      "metadata": {
        "id": "PoDY_TquCrUe"
      },
      "source": [
        "# empty_df = spark.createDataFrame([['']]).toDF(\"text\")\r\n",
        "pipelineModel = nlpPipeline.fit(train)\r\n",
        "# df = spark.createDataFrame(pd.DataFrame({\"text\":text_list}))\r\n",
        "result = pipelineModel.transform(train) "
      ],
      "execution_count": 57,
      "outputs": []
    },
    {
      "cell_type": "markdown",
      "metadata": {
        "id": "Ke6W6Fm1C0DL"
      },
      "source": [
        " Visualize results"
      ]
    },
    {
      "cell_type": "code",
      "metadata": {
        "id": "tvsJZfXCCvkJ"
      },
      "source": [
        "res = result.select(F.explode(F.arrays_zip('document.result', 'class.result')).alias(\"cols\")) \\\r\n",
        "            .select(F.expr(\"cols['0']\").alias(\"document\"),\r\n",
        "            F.expr(\"cols['1']\").alias(\"class\"))"
      ],
      "execution_count": 58,
      "outputs": []
    },
    {
      "cell_type": "code",
      "metadata": {
        "colab": {
          "base_uri": "https://localhost:8080/"
        },
        "id": "tZkx5ZVGC6wT",
        "outputId": "0d247412-5532-4bf7-d11a-58e035f6e96a"
      },
      "source": [
        "res.count()"
      ],
      "execution_count": 59,
      "outputs": [
        {
          "output_type": "execute_result",
          "data": {
            "text/plain": [
              "4059"
            ]
          },
          "metadata": {
            "tags": []
          },
          "execution_count": 59
        }
      ]
    },
    {
      "cell_type": "code",
      "metadata": {
        "colab": {
          "base_uri": "https://localhost:8080/"
        },
        "id": "Gh1uoJFVC835",
        "outputId": "036f35da-ff2f-47d7-fc17-3f8a3b687bfc"
      },
      "source": [
        "res.show()"
      ],
      "execution_count": 60,
      "outputs": [
        {
          "output_type": "stream",
          "text": [
            "+--------------------+-----+\n",
            "|            document|class|\n",
            "+--------------------+-----+\n",
            "|Hope you are havi...|  ham|\n",
            "|K..give back my t...|  ham|\n",
            "|complimentary 4 S...| spam|\n",
            "|okmail: Dear Dave...| spam|\n",
            "|Aiya we discuss l...|  ham|\n",
            "|Are you this much...|  ham|\n",
            "|Please ask mummy ...|  ham|\n",
            "|fyi I'm at usf no...|  ham|\n",
            "|Sure thing big ma...|  ham|\n",
            "|   I anything lor...|  ham|\n",
            "|By march ending, ...|  ham|\n",
            "|Hmm well, night n...|  ham|\n",
            "|K I'll be sure to...|  ham|\n",
            "|Ha ha cool cool c...|  ham|\n",
            "|Darren was saying...|  ham|\n",
            "|He dint tell anyt...|  ham|\n",
            "|Up to u... u wan ...|  ham|\n",
            "|U can WIN £100 of...| spam|\n",
            "|2mro i am not com...|  ham|\n",
            "|ARR birthday toda...|  ham|\n",
            "+--------------------+-----+\n",
            "only showing top 20 rows\n",
            "\n"
          ],
          "name": "stdout"
        }
      ]
    },
    {
      "cell_type": "code",
      "metadata": {
        "colab": {
          "base_uri": "https://localhost:8080/"
        },
        "id": "RQnKOviRC_OC",
        "outputId": "11a8f09f-c034-4304-d229-4b6f9dd7a557"
      },
      "source": [
        "res.printSchema()"
      ],
      "execution_count": 61,
      "outputs": [
        {
          "output_type": "stream",
          "text": [
            "root\n",
            " |-- document: string (nullable = true)\n",
            " |-- class: string (nullable = true)\n",
            "\n"
          ],
          "name": "stdout"
        }
      ]
    },
    {
      "cell_type": "code",
      "metadata": {
        "id": "bfBI-ph9DAz9"
      },
      "source": [
        "from google.colab import files\r\n",
        "# pd_res = res.toPandas()\r\n",
        "# pd_res.to_csv('/content/drive/MyDrive/BigData/res.csv')"
      ],
      "execution_count": 17,
      "outputs": []
    },
    {
      "cell_type": "code",
      "metadata": {
        "id": "jl5plq4-DB5l"
      },
      "source": [
        "from pyspark.sql.functions import row_number,lit\r\n",
        "from pyspark.sql.window import Window\r\n",
        "w = Window().orderBy(lit('A'))\r\n",
        "res = res.withColumn(\"id\", row_number().over(w))"
      ],
      "execution_count": 62,
      "outputs": []
    },
    {
      "cell_type": "code",
      "metadata": {
        "colab": {
          "base_uri": "https://localhost:8080/"
        },
        "id": "BqlO8NPADDHq",
        "outputId": "0edae53c-8484-4e32-a701-309123ba8b02"
      },
      "source": [
        "res.show()"
      ],
      "execution_count": 63,
      "outputs": [
        {
          "output_type": "stream",
          "text": [
            "+--------------------+-----+---+\n",
            "|            document|class| id|\n",
            "+--------------------+-----+---+\n",
            "|Hope you are havi...|  ham|  1|\n",
            "|K..give back my t...|  ham|  2|\n",
            "|complimentary 4 S...| spam|  3|\n",
            "|okmail: Dear Dave...| spam|  4|\n",
            "|Aiya we discuss l...|  ham|  5|\n",
            "|Are you this much...|  ham|  6|\n",
            "|Please ask mummy ...|  ham|  7|\n",
            "|fyi I'm at usf no...|  ham|  8|\n",
            "|Sure thing big ma...|  ham|  9|\n",
            "|   I anything lor...|  ham| 10|\n",
            "|By march ending, ...|  ham| 11|\n",
            "|Hmm well, night n...|  ham| 12|\n",
            "|K I'll be sure to...|  ham| 13|\n",
            "|Ha ha cool cool c...|  ham| 14|\n",
            "|Darren was saying...|  ham| 15|\n",
            "|He dint tell anyt...|  ham| 16|\n",
            "|Up to u... u wan ...|  ham| 17|\n",
            "|U can WIN £100 of...| spam| 18|\n",
            "|2mro i am not com...|  ham| 19|\n",
            "|ARR birthday toda...|  ham| 20|\n",
            "+--------------------+-----+---+\n",
            "only showing top 20 rows\n",
            "\n"
          ],
          "name": "stdout"
        }
      ]
    },
    {
      "cell_type": "code",
      "metadata": {
        "id": "XcEFeqwADFrO"
      },
      "source": [
        "# convert res to pandas\r\n",
        "pd_restrain = res.toPandas()"
      ],
      "execution_count": 64,
      "outputs": []
    },
    {
      "cell_type": "code",
      "metadata": {
        "colab": {
          "base_uri": "https://localhost:8080/",
          "height": 402
        },
        "id": "-V_urwpcDGEM",
        "outputId": "8ecd88f2-fe78-401d-dd1c-793fb983efa4"
      },
      "source": [
        "display(pd_restrain)"
      ],
      "execution_count": 65,
      "outputs": [
        {
          "output_type": "display_data",
          "data": {
            "text/html": [
              "<div>\n",
              "<style scoped>\n",
              "    .dataframe tbody tr th:only-of-type {\n",
              "        vertical-align: middle;\n",
              "    }\n",
              "\n",
              "    .dataframe tbody tr th {\n",
              "        vertical-align: top;\n",
              "    }\n",
              "\n",
              "    .dataframe thead th {\n",
              "        text-align: right;\n",
              "    }\n",
              "</style>\n",
              "<table border=\"1\" class=\"dataframe\">\n",
              "  <thead>\n",
              "    <tr style=\"text-align: right;\">\n",
              "      <th></th>\n",
              "      <th>document</th>\n",
              "      <th>class</th>\n",
              "      <th>id</th>\n",
              "    </tr>\n",
              "  </thead>\n",
              "  <tbody>\n",
              "    <tr>\n",
              "      <th>0</th>\n",
              "      <td>Hope you are having a good week. Just checking in</td>\n",
              "      <td>ham</td>\n",
              "      <td>1</td>\n",
              "    </tr>\n",
              "    <tr>\n",
              "      <th>1</th>\n",
              "      <td>K..give back my thanks.</td>\n",
              "      <td>ham</td>\n",
              "      <td>2</td>\n",
              "    </tr>\n",
              "    <tr>\n",
              "      <th>2</th>\n",
              "      <td>complimentary 4 STAR Ibiza Holiday or £10,000 ...</td>\n",
              "      <td>spam</td>\n",
              "      <td>3</td>\n",
              "    </tr>\n",
              "    <tr>\n",
              "      <th>3</th>\n",
              "      <td>okmail: Dear Dave this is your final notice to...</td>\n",
              "      <td>spam</td>\n",
              "      <td>4</td>\n",
              "    </tr>\n",
              "    <tr>\n",
              "      <th>4</th>\n",
              "      <td>Aiya we discuss later lar... Pick u up at 4 is...</td>\n",
              "      <td>ham</td>\n",
              "      <td>5</td>\n",
              "    </tr>\n",
              "    <tr>\n",
              "      <th>...</th>\n",
              "      <td>...</td>\n",
              "      <td>...</td>\n",
              "      <td>...</td>\n",
              "    </tr>\n",
              "    <tr>\n",
              "      <th>4054</th>\n",
              "      <td>Is there any movie theatre i can go to and wat...</td>\n",
              "      <td>ham</td>\n",
              "      <td>4055</td>\n",
              "    </tr>\n",
              "    <tr>\n",
              "      <th>4055</th>\n",
              "      <td>Customer service announcement. We recently tri...</td>\n",
              "      <td>spam</td>\n",
              "      <td>4056</td>\n",
              "    </tr>\n",
              "    <tr>\n",
              "      <th>4056</th>\n",
              "      <td>Aiyar dun disturb u liao... Thk u have lots 2 ...</td>\n",
              "      <td>ham</td>\n",
              "      <td>4057</td>\n",
              "    </tr>\n",
              "    <tr>\n",
              "      <th>4057</th>\n",
              "      <td>SMS SERVICES. for your inclusive text credits,...</td>\n",
              "      <td>spam</td>\n",
              "      <td>4058</td>\n",
              "    </tr>\n",
              "    <tr>\n",
              "      <th>4058</th>\n",
              "      <td>There generally isn't one. It's an uncountable...</td>\n",
              "      <td>ham</td>\n",
              "      <td>4059</td>\n",
              "    </tr>\n",
              "  </tbody>\n",
              "</table>\n",
              "<p>4059 rows × 3 columns</p>\n",
              "</div>"
            ],
            "text/plain": [
              "                                               document class    id\n",
              "0     Hope you are having a good week. Just checking in   ham     1\n",
              "1                               K..give back my thanks.   ham     2\n",
              "2     complimentary 4 STAR Ibiza Holiday or £10,000 ...  spam     3\n",
              "3     okmail: Dear Dave this is your final notice to...  spam     4\n",
              "4     Aiya we discuss later lar... Pick u up at 4 is...   ham     5\n",
              "...                                                 ...   ...   ...\n",
              "4054  Is there any movie theatre i can go to and wat...   ham  4055\n",
              "4055  Customer service announcement. We recently tri...  spam  4056\n",
              "4056  Aiyar dun disturb u liao... Thk u have lots 2 ...   ham  4057\n",
              "4057  SMS SERVICES. for your inclusive text credits,...  spam  4058\n",
              "4058  There generally isn't one. It's an uncountable...   ham  4059\n",
              "\n",
              "[4059 rows x 3 columns]"
            ]
          },
          "metadata": {
            "tags": []
          }
        }
      ]
    },
    {
      "cell_type": "code",
      "metadata": {
        "colab": {
          "base_uri": "https://localhost:8080/",
          "height": 402
        },
        "id": "WrEHMKPpDHLv",
        "outputId": "f4ea79ca-6b8e-4c63-bcd7-c42390599487"
      },
      "source": [
        "pd_train = train.toPandas()\r\n",
        "display(pd_train)"
      ],
      "execution_count": 66,
      "outputs": [
        {
          "output_type": "display_data",
          "data": {
            "text/html": [
              "<div>\n",
              "<style scoped>\n",
              "    .dataframe tbody tr th:only-of-type {\n",
              "        vertical-align: middle;\n",
              "    }\n",
              "\n",
              "    .dataframe tbody tr th {\n",
              "        vertical-align: top;\n",
              "    }\n",
              "\n",
              "    .dataframe thead th {\n",
              "        text-align: right;\n",
              "    }\n",
              "</style>\n",
              "<table border=\"1\" class=\"dataframe\">\n",
              "  <thead>\n",
              "    <tr style=\"text-align: right;\">\n",
              "      <th></th>\n",
              "      <th>id</th>\n",
              "      <th>sms_text</th>\n",
              "      <th>spam</th>\n",
              "    </tr>\n",
              "  </thead>\n",
              "  <tbody>\n",
              "    <tr>\n",
              "      <th>0</th>\n",
              "      <td>1</td>\n",
              "      <td>Hope you are having a good week. Just checking in</td>\n",
              "      <td>0</td>\n",
              "    </tr>\n",
              "    <tr>\n",
              "      <th>1</th>\n",
              "      <td>2</td>\n",
              "      <td>K..give back my thanks.</td>\n",
              "      <td>0</td>\n",
              "    </tr>\n",
              "    <tr>\n",
              "      <th>2</th>\n",
              "      <td>4</td>\n",
              "      <td>complimentary 4 STAR Ibiza Holiday or £10,000 ...</td>\n",
              "      <td>1</td>\n",
              "    </tr>\n",
              "    <tr>\n",
              "      <th>3</th>\n",
              "      <td>5</td>\n",
              "      <td>okmail: Dear Dave this is your final notice to...</td>\n",
              "      <td>1</td>\n",
              "    </tr>\n",
              "    <tr>\n",
              "      <th>4</th>\n",
              "      <td>6</td>\n",
              "      <td>Aiya we discuss later lar... Pick u up at 4 is...</td>\n",
              "      <td>0</td>\n",
              "    </tr>\n",
              "    <tr>\n",
              "      <th>...</th>\n",
              "      <td>...</td>\n",
              "      <td>...</td>\n",
              "      <td>...</td>\n",
              "    </tr>\n",
              "    <tr>\n",
              "      <th>4054</th>\n",
              "      <td>4994</td>\n",
              "      <td>Is there any movie theatre i can go to and wat...</td>\n",
              "      <td>0</td>\n",
              "    </tr>\n",
              "    <tr>\n",
              "      <th>4055</th>\n",
              "      <td>4995</td>\n",
              "      <td>Customer service announcement. We recently tri...</td>\n",
              "      <td>1</td>\n",
              "    </tr>\n",
              "    <tr>\n",
              "      <th>4056</th>\n",
              "      <td>4996</td>\n",
              "      <td>Aiyar dun disturb u liao... Thk u have lots 2 ...</td>\n",
              "      <td>0</td>\n",
              "    </tr>\n",
              "    <tr>\n",
              "      <th>4057</th>\n",
              "      <td>4997</td>\n",
              "      <td>SMS SERVICES. for your inclusive text credits,...</td>\n",
              "      <td>1</td>\n",
              "    </tr>\n",
              "    <tr>\n",
              "      <th>4058</th>\n",
              "      <td>5000</td>\n",
              "      <td>There generally isn't one. It's an uncountable...</td>\n",
              "      <td>0</td>\n",
              "    </tr>\n",
              "  </tbody>\n",
              "</table>\n",
              "<p>4059 rows × 3 columns</p>\n",
              "</div>"
            ],
            "text/plain": [
              "        id                                           sms_text  spam\n",
              "0        1  Hope you are having a good week. Just checking in     0\n",
              "1        2                            K..give back my thanks.     0\n",
              "2        4  complimentary 4 STAR Ibiza Holiday or £10,000 ...     1\n",
              "3        5  okmail: Dear Dave this is your final notice to...     1\n",
              "4        6  Aiya we discuss later lar... Pick u up at 4 is...     0\n",
              "...    ...                                                ...   ...\n",
              "4054  4994  Is there any movie theatre i can go to and wat...     0\n",
              "4055  4995  Customer service announcement. We recently tri...     1\n",
              "4056  4996  Aiyar dun disturb u liao... Thk u have lots 2 ...     0\n",
              "4057  4997  SMS SERVICES. for your inclusive text credits,...     1\n",
              "4058  5000  There generally isn't one. It's an uncountable...     0\n",
              "\n",
              "[4059 rows x 3 columns]"
            ]
          },
          "metadata": {
            "tags": []
          }
        }
      ]
    },
    {
      "cell_type": "code",
      "metadata": {
        "colab": {
          "base_uri": "https://localhost:8080/",
          "height": 402
        },
        "id": "7CVcGmS7DJFd",
        "outputId": "be340c54-838a-4212-dcb1-b4b45c1ea15b"
      },
      "source": [
        "train_pd = pd.concat([pd_train,pd_restrain['class']],axis=1)\r\n",
        "#train_pd.drop([\"document\"],inplace=True,axis=1)\r\n",
        "display(train_pd)"
      ],
      "execution_count": 67,
      "outputs": [
        {
          "output_type": "display_data",
          "data": {
            "text/html": [
              "<div>\n",
              "<style scoped>\n",
              "    .dataframe tbody tr th:only-of-type {\n",
              "        vertical-align: middle;\n",
              "    }\n",
              "\n",
              "    .dataframe tbody tr th {\n",
              "        vertical-align: top;\n",
              "    }\n",
              "\n",
              "    .dataframe thead th {\n",
              "        text-align: right;\n",
              "    }\n",
              "</style>\n",
              "<table border=\"1\" class=\"dataframe\">\n",
              "  <thead>\n",
              "    <tr style=\"text-align: right;\">\n",
              "      <th></th>\n",
              "      <th>id</th>\n",
              "      <th>sms_text</th>\n",
              "      <th>spam</th>\n",
              "      <th>class</th>\n",
              "    </tr>\n",
              "  </thead>\n",
              "  <tbody>\n",
              "    <tr>\n",
              "      <th>0</th>\n",
              "      <td>1</td>\n",
              "      <td>Hope you are having a good week. Just checking in</td>\n",
              "      <td>0</td>\n",
              "      <td>ham</td>\n",
              "    </tr>\n",
              "    <tr>\n",
              "      <th>1</th>\n",
              "      <td>2</td>\n",
              "      <td>K..give back my thanks.</td>\n",
              "      <td>0</td>\n",
              "      <td>ham</td>\n",
              "    </tr>\n",
              "    <tr>\n",
              "      <th>2</th>\n",
              "      <td>4</td>\n",
              "      <td>complimentary 4 STAR Ibiza Holiday or £10,000 ...</td>\n",
              "      <td>1</td>\n",
              "      <td>spam</td>\n",
              "    </tr>\n",
              "    <tr>\n",
              "      <th>3</th>\n",
              "      <td>5</td>\n",
              "      <td>okmail: Dear Dave this is your final notice to...</td>\n",
              "      <td>1</td>\n",
              "      <td>spam</td>\n",
              "    </tr>\n",
              "    <tr>\n",
              "      <th>4</th>\n",
              "      <td>6</td>\n",
              "      <td>Aiya we discuss later lar... Pick u up at 4 is...</td>\n",
              "      <td>0</td>\n",
              "      <td>ham</td>\n",
              "    </tr>\n",
              "    <tr>\n",
              "      <th>...</th>\n",
              "      <td>...</td>\n",
              "      <td>...</td>\n",
              "      <td>...</td>\n",
              "      <td>...</td>\n",
              "    </tr>\n",
              "    <tr>\n",
              "      <th>4054</th>\n",
              "      <td>4994</td>\n",
              "      <td>Is there any movie theatre i can go to and wat...</td>\n",
              "      <td>0</td>\n",
              "      <td>ham</td>\n",
              "    </tr>\n",
              "    <tr>\n",
              "      <th>4055</th>\n",
              "      <td>4995</td>\n",
              "      <td>Customer service announcement. We recently tri...</td>\n",
              "      <td>1</td>\n",
              "      <td>spam</td>\n",
              "    </tr>\n",
              "    <tr>\n",
              "      <th>4056</th>\n",
              "      <td>4996</td>\n",
              "      <td>Aiyar dun disturb u liao... Thk u have lots 2 ...</td>\n",
              "      <td>0</td>\n",
              "      <td>ham</td>\n",
              "    </tr>\n",
              "    <tr>\n",
              "      <th>4057</th>\n",
              "      <td>4997</td>\n",
              "      <td>SMS SERVICES. for your inclusive text credits,...</td>\n",
              "      <td>1</td>\n",
              "      <td>spam</td>\n",
              "    </tr>\n",
              "    <tr>\n",
              "      <th>4058</th>\n",
              "      <td>5000</td>\n",
              "      <td>There generally isn't one. It's an uncountable...</td>\n",
              "      <td>0</td>\n",
              "      <td>ham</td>\n",
              "    </tr>\n",
              "  </tbody>\n",
              "</table>\n",
              "<p>4059 rows × 4 columns</p>\n",
              "</div>"
            ],
            "text/plain": [
              "        id                                           sms_text  spam class\n",
              "0        1  Hope you are having a good week. Just checking in     0   ham\n",
              "1        2                            K..give back my thanks.     0   ham\n",
              "2        4  complimentary 4 STAR Ibiza Holiday or £10,000 ...     1  spam\n",
              "3        5  okmail: Dear Dave this is your final notice to...     1  spam\n",
              "4        6  Aiya we discuss later lar... Pick u up at 4 is...     0   ham\n",
              "...    ...                                                ...   ...   ...\n",
              "4054  4994  Is there any movie theatre i can go to and wat...     0   ham\n",
              "4055  4995  Customer service announcement. We recently tri...     1  spam\n",
              "4056  4996  Aiyar dun disturb u liao... Thk u have lots 2 ...     0   ham\n",
              "4057  4997  SMS SERVICES. for your inclusive text credits,...     1  spam\n",
              "4058  5000  There generally isn't one. It's an uncountable...     0   ham\n",
              "\n",
              "[4059 rows x 4 columns]"
            ]
          },
          "metadata": {
            "tags": []
          }
        }
      ]
    },
    {
      "cell_type": "code",
      "metadata": {
        "id": "8RjTIw46DKVu"
      },
      "source": [
        "train_pd['class']=train_pd['class'].map(dict(ham=0, spam=1))"
      ],
      "execution_count": 68,
      "outputs": []
    },
    {
      "cell_type": "code",
      "metadata": {
        "colab": {
          "base_uri": "https://localhost:8080/",
          "height": 402
        },
        "id": "LSgIOwbODK9r",
        "outputId": "09fe1e5b-66f0-4c0c-c0c4-6e25c58bded9"
      },
      "source": [
        "display(train_pd)"
      ],
      "execution_count": 69,
      "outputs": [
        {
          "output_type": "display_data",
          "data": {
            "text/html": [
              "<div>\n",
              "<style scoped>\n",
              "    .dataframe tbody tr th:only-of-type {\n",
              "        vertical-align: middle;\n",
              "    }\n",
              "\n",
              "    .dataframe tbody tr th {\n",
              "        vertical-align: top;\n",
              "    }\n",
              "\n",
              "    .dataframe thead th {\n",
              "        text-align: right;\n",
              "    }\n",
              "</style>\n",
              "<table border=\"1\" class=\"dataframe\">\n",
              "  <thead>\n",
              "    <tr style=\"text-align: right;\">\n",
              "      <th></th>\n",
              "      <th>id</th>\n",
              "      <th>sms_text</th>\n",
              "      <th>spam</th>\n",
              "      <th>class</th>\n",
              "    </tr>\n",
              "  </thead>\n",
              "  <tbody>\n",
              "    <tr>\n",
              "      <th>0</th>\n",
              "      <td>1</td>\n",
              "      <td>Hope you are having a good week. Just checking in</td>\n",
              "      <td>0</td>\n",
              "      <td>0</td>\n",
              "    </tr>\n",
              "    <tr>\n",
              "      <th>1</th>\n",
              "      <td>2</td>\n",
              "      <td>K..give back my thanks.</td>\n",
              "      <td>0</td>\n",
              "      <td>0</td>\n",
              "    </tr>\n",
              "    <tr>\n",
              "      <th>2</th>\n",
              "      <td>4</td>\n",
              "      <td>complimentary 4 STAR Ibiza Holiday or £10,000 ...</td>\n",
              "      <td>1</td>\n",
              "      <td>1</td>\n",
              "    </tr>\n",
              "    <tr>\n",
              "      <th>3</th>\n",
              "      <td>5</td>\n",
              "      <td>okmail: Dear Dave this is your final notice to...</td>\n",
              "      <td>1</td>\n",
              "      <td>1</td>\n",
              "    </tr>\n",
              "    <tr>\n",
              "      <th>4</th>\n",
              "      <td>6</td>\n",
              "      <td>Aiya we discuss later lar... Pick u up at 4 is...</td>\n",
              "      <td>0</td>\n",
              "      <td>0</td>\n",
              "    </tr>\n",
              "    <tr>\n",
              "      <th>...</th>\n",
              "      <td>...</td>\n",
              "      <td>...</td>\n",
              "      <td>...</td>\n",
              "      <td>...</td>\n",
              "    </tr>\n",
              "    <tr>\n",
              "      <th>4054</th>\n",
              "      <td>4994</td>\n",
              "      <td>Is there any movie theatre i can go to and wat...</td>\n",
              "      <td>0</td>\n",
              "      <td>0</td>\n",
              "    </tr>\n",
              "    <tr>\n",
              "      <th>4055</th>\n",
              "      <td>4995</td>\n",
              "      <td>Customer service announcement. We recently tri...</td>\n",
              "      <td>1</td>\n",
              "      <td>1</td>\n",
              "    </tr>\n",
              "    <tr>\n",
              "      <th>4056</th>\n",
              "      <td>4996</td>\n",
              "      <td>Aiyar dun disturb u liao... Thk u have lots 2 ...</td>\n",
              "      <td>0</td>\n",
              "      <td>0</td>\n",
              "    </tr>\n",
              "    <tr>\n",
              "      <th>4057</th>\n",
              "      <td>4997</td>\n",
              "      <td>SMS SERVICES. for your inclusive text credits,...</td>\n",
              "      <td>1</td>\n",
              "      <td>1</td>\n",
              "    </tr>\n",
              "    <tr>\n",
              "      <th>4058</th>\n",
              "      <td>5000</td>\n",
              "      <td>There generally isn't one. It's an uncountable...</td>\n",
              "      <td>0</td>\n",
              "      <td>0</td>\n",
              "    </tr>\n",
              "  </tbody>\n",
              "</table>\n",
              "<p>4059 rows × 4 columns</p>\n",
              "</div>"
            ],
            "text/plain": [
              "        id                                           sms_text  spam  class\n",
              "0        1  Hope you are having a good week. Just checking in     0      0\n",
              "1        2                            K..give back my thanks.     0      0\n",
              "2        4  complimentary 4 STAR Ibiza Holiday or £10,000 ...     1      1\n",
              "3        5  okmail: Dear Dave this is your final notice to...     1      1\n",
              "4        6  Aiya we discuss later lar... Pick u up at 4 is...     0      0\n",
              "...    ...                                                ...   ...    ...\n",
              "4054  4994  Is there any movie theatre i can go to and wat...     0      0\n",
              "4055  4995  Customer service announcement. We recently tri...     1      1\n",
              "4056  4996  Aiyar dun disturb u liao... Thk u have lots 2 ...     0      0\n",
              "4057  4997  SMS SERVICES. for your inclusive text credits,...     1      1\n",
              "4058  5000  There generally isn't one. It's an uncountable...     0      0\n",
              "\n",
              "[4059 rows x 4 columns]"
            ]
          },
          "metadata": {
            "tags": []
          }
        }
      ]
    },
    {
      "cell_type": "markdown",
      "metadata": {
        "id": "jBeJQnAIJGp9"
      },
      "source": [
        "Test Split Data"
      ]
    },
    {
      "cell_type": "code",
      "metadata": {
        "id": "hLFYEMDxFTqe"
      },
      "source": [
        "result_test = pipelineModel.transform(test) "
      ],
      "execution_count": 70,
      "outputs": []
    },
    {
      "cell_type": "code",
      "metadata": {
        "id": "U1Ss9C7vJLDZ"
      },
      "source": [
        "res_test = result_test.select(F.explode(F.arrays_zip('document.result', 'class.result')).alias(\"cols\")) \\\r\n",
        "            .select(F.expr(\"cols['0']\").alias(\"document\"),\r\n",
        "            F.expr(\"cols['1']\").alias(\"class\"))"
      ],
      "execution_count": 71,
      "outputs": []
    },
    {
      "cell_type": "code",
      "metadata": {
        "colab": {
          "base_uri": "https://localhost:8080/",
          "height": 402
        },
        "id": "kvTsTDiXJLF6",
        "outputId": "a9b0cb42-e817-4856-d690-00ba00a4ba29"
      },
      "source": [
        "pd_restest = res_test.toPandas()\r\n",
        "pd_test = test.toPandas()\r\n",
        "\r\n",
        "test_pd = pd.concat([pd_test,pd_restest['class']],axis=1)\r\n",
        "test_pd['class']=test_pd['class'].map(dict(ham=0, spam=1))\r\n",
        "display(test_pd)"
      ],
      "execution_count": 72,
      "outputs": [
        {
          "output_type": "display_data",
          "data": {
            "text/html": [
              "<div>\n",
              "<style scoped>\n",
              "    .dataframe tbody tr th:only-of-type {\n",
              "        vertical-align: middle;\n",
              "    }\n",
              "\n",
              "    .dataframe tbody tr th {\n",
              "        vertical-align: top;\n",
              "    }\n",
              "\n",
              "    .dataframe thead th {\n",
              "        text-align: right;\n",
              "    }\n",
              "</style>\n",
              "<table border=\"1\" class=\"dataframe\">\n",
              "  <thead>\n",
              "    <tr style=\"text-align: right;\">\n",
              "      <th></th>\n",
              "      <th>id</th>\n",
              "      <th>sms_text</th>\n",
              "      <th>spam</th>\n",
              "      <th>class</th>\n",
              "    </tr>\n",
              "  </thead>\n",
              "  <tbody>\n",
              "    <tr>\n",
              "      <th>0</th>\n",
              "      <td>3</td>\n",
              "      <td>Am also doing in cbe only. But have to pay.</td>\n",
              "      <td>0</td>\n",
              "      <td>0</td>\n",
              "    </tr>\n",
              "    <tr>\n",
              "      <th>1</th>\n",
              "      <td>9</td>\n",
              "      <td>Marvel Mobile Play the official Ultimate Spide...</td>\n",
              "      <td>1</td>\n",
              "      <td>1</td>\n",
              "    </tr>\n",
              "    <tr>\n",
              "      <th>2</th>\n",
              "      <td>27</td>\n",
              "      <td>Well if I'm that desperate I'll just call arma...</td>\n",
              "      <td>0</td>\n",
              "      <td>0</td>\n",
              "    </tr>\n",
              "    <tr>\n",
              "      <th>3</th>\n",
              "      <td>28</td>\n",
              "      <td>Fuuuuck I need to stop sleepin, sup</td>\n",
              "      <td>0</td>\n",
              "      <td>0</td>\n",
              "    </tr>\n",
              "    <tr>\n",
              "      <th>4</th>\n",
              "      <td>31</td>\n",
              "      <td>Ok.ok ok..then..whats ur todays plan</td>\n",
              "      <td>0</td>\n",
              "      <td>0</td>\n",
              "    </tr>\n",
              "    <tr>\n",
              "      <th>...</th>\n",
              "      <td>...</td>\n",
              "      <td>...</td>\n",
              "      <td>...</td>\n",
              "      <td>...</td>\n",
              "    </tr>\n",
              "    <tr>\n",
              "      <th>936</th>\n",
              "      <td>4975</td>\n",
              "      <td>Ranjith cal drpd Deeraj and deepak 5min hold</td>\n",
              "      <td>0</td>\n",
              "      <td>0</td>\n",
              "    </tr>\n",
              "    <tr>\n",
              "      <th>937</th>\n",
              "      <td>4980</td>\n",
              "      <td>LookAtMe!: Thanks for your purchase of a video...</td>\n",
              "      <td>1</td>\n",
              "      <td>1</td>\n",
              "    </tr>\n",
              "    <tr>\n",
              "      <th>938</th>\n",
              "      <td>4993</td>\n",
              "      <td>Todays Voda numbers ending with 7634 are selec...</td>\n",
              "      <td>1</td>\n",
              "      <td>1</td>\n",
              "    </tr>\n",
              "    <tr>\n",
              "      <th>939</th>\n",
              "      <td>4998</td>\n",
              "      <td>If you're not in my car in an hour and a half ...</td>\n",
              "      <td>0</td>\n",
              "      <td>0</td>\n",
              "    </tr>\n",
              "    <tr>\n",
              "      <th>940</th>\n",
              "      <td>4999</td>\n",
              "      <td>Mm umma ask vava also to come tell him can pla...</td>\n",
              "      <td>0</td>\n",
              "      <td>0</td>\n",
              "    </tr>\n",
              "  </tbody>\n",
              "</table>\n",
              "<p>941 rows × 4 columns</p>\n",
              "</div>"
            ],
            "text/plain": [
              "       id                                           sms_text  spam  class\n",
              "0       3        Am also doing in cbe only. But have to pay.     0      0\n",
              "1       9  Marvel Mobile Play the official Ultimate Spide...     1      1\n",
              "2      27  Well if I'm that desperate I'll just call arma...     0      0\n",
              "3      28                Fuuuuck I need to stop sleepin, sup     0      0\n",
              "4      31               Ok.ok ok..then..whats ur todays plan     0      0\n",
              "..    ...                                                ...   ...    ...\n",
              "936  4975       Ranjith cal drpd Deeraj and deepak 5min hold     0      0\n",
              "937  4980  LookAtMe!: Thanks for your purchase of a video...     1      1\n",
              "938  4993  Todays Voda numbers ending with 7634 are selec...     1      1\n",
              "939  4998  If you're not in my car in an hour and a half ...     0      0\n",
              "940  4999  Mm umma ask vava also to come tell him can pla...     0      0\n",
              "\n",
              "[941 rows x 4 columns]"
            ]
          },
          "metadata": {
            "tags": []
          }
        }
      ]
    },
    {
      "cell_type": "code",
      "metadata": {
        "colab": {
          "base_uri": "https://localhost:8080/"
        },
        "id": "gL-rvOanLX7W",
        "outputId": "f205bd24-40f8-4838-f68e-e944fe0758cf"
      },
      "source": [
        "from sklearn.metrics import confusion_matrix\r\n",
        "from sklearn.metrics import classification_report, f1_score\r\n",
        "\r\n",
        "# pred_val = pipe.predict(X_val)\r\n",
        "\r\n",
        "# check on train or test\r\n",
        "y_val = train_pd['spam'].to_numpy()\r\n",
        "pred_val = train_pd['class'].to_numpy()\r\n",
        "\r\n",
        "print(\"Confusion matrix:\")\r\n",
        "print(confusion_matrix(y_val, pred_val))\r\n",
        "\r\n",
        "print(\"\\nF1 Score = {:.5f}\".format(f1_score(y_val, pred_val, average=\"micro\")))\r\n",
        "\r\n",
        "print(\"\\nClassification Report:\")\r\n",
        "print(classification_report(y_val, pred_val))"
      ],
      "execution_count": 75,
      "outputs": [
        {
          "output_type": "stream",
          "text": [
            "Confusion matrix:\n",
            "[[3480   28]\n",
            " [  30  521]]\n",
            "\n",
            "F1 Score = 0.98571\n",
            "\n",
            "Classification Report:\n",
            "              precision    recall  f1-score   support\n",
            "\n",
            "           0       0.99      0.99      0.99      3508\n",
            "           1       0.95      0.95      0.95       551\n",
            "\n",
            "    accuracy                           0.99      4059\n",
            "   macro avg       0.97      0.97      0.97      4059\n",
            "weighted avg       0.99      0.99      0.99      4059\n",
            "\n"
          ],
          "name": "stdout"
        }
      ]
    },
    {
      "cell_type": "code",
      "metadata": {
        "id": "Au3LkkXxJLRk"
      },
      "source": [
        "test_kag = pd.read_csv('spamraw_test.csv')\r\n",
        "df_test = spark.createDataFrame(test_kag)"
      ],
      "execution_count": 73,
      "outputs": []
    },
    {
      "cell_type": "code",
      "metadata": {
        "colab": {
          "base_uri": "https://localhost:8080/"
        },
        "id": "aLZgTH-TKNX9",
        "outputId": "f05d62ec-5675-4c4e-ad8b-9df27dd96529"
      },
      "source": [
        "df_test.show()"
      ],
      "execution_count": 74,
      "outputs": [
        {
          "output_type": "stream",
          "text": [
            "+-----+--------------------+\n",
            "|   id|            sms_text|\n",
            "+-----+--------------------+\n",
            "|12000|HOT LIVE FANTASIE...|\n",
            "|12001|I not at home now...|\n",
            "|12002|So how's scotland...|\n",
            "|12003|Yo you around? A ...|\n",
            "|12004|I'm aight. Wat's ...|\n",
            "|12005|SMS. ac Sptv: The...|\n",
            "|12006|I'm taking derek ...|\n",
            "|12007|Okay name ur pric...|\n",
            "|12008|Kallis is ready f...|\n",
            "|12009|I'll get there at...|\n",
            "|12010|Shall i come to g...|\n",
            "|12011|Carry on not dist...|\n",
            "|12012|Hi dis is yijue i...|\n",
            "|12013|I need... Coz i n...|\n",
            "|12014|SMS. ac Blind Dat...|\n",
            "|12015|Was gr8 to see th...|\n",
            "|12016|I have no idea wh...|\n",
            "|12017|Hello which the s...|\n",
            "|12018|U studying in sch...|\n",
            "|12019|Thank you. I like...|\n",
            "+-----+--------------------+\n",
            "only showing top 20 rows\n",
            "\n"
          ],
          "name": "stdout"
        }
      ]
    },
    {
      "cell_type": "code",
      "metadata": {
        "id": "R-NPTZT_MQXJ"
      },
      "source": [
        "test_kag = pd.read_csv('spamraw_test.csv')\r\n",
        "df_test = spark.createDataFrame(test_kag)"
      ],
      "execution_count": 77,
      "outputs": []
    },
    {
      "cell_type": "code",
      "metadata": {
        "colab": {
          "base_uri": "https://localhost:8080/"
        },
        "id": "ZAgOz9lbMafz",
        "outputId": "2cf33628-3e6f-4be1-e58c-5dab281906cb"
      },
      "source": [
        "df_test.show()"
      ],
      "execution_count": 78,
      "outputs": [
        {
          "output_type": "stream",
          "text": [
            "+-----+--------------------+\n",
            "|   id|            sms_text|\n",
            "+-----+--------------------+\n",
            "|12000|HOT LIVE FANTASIE...|\n",
            "|12001|I not at home now...|\n",
            "|12002|So how's scotland...|\n",
            "|12003|Yo you around? A ...|\n",
            "|12004|I'm aight. Wat's ...|\n",
            "|12005|SMS. ac Sptv: The...|\n",
            "|12006|I'm taking derek ...|\n",
            "|12007|Okay name ur pric...|\n",
            "|12008|Kallis is ready f...|\n",
            "|12009|I'll get there at...|\n",
            "|12010|Shall i come to g...|\n",
            "|12011|Carry on not dist...|\n",
            "|12012|Hi dis is yijue i...|\n",
            "|12013|I need... Coz i n...|\n",
            "|12014|SMS. ac Blind Dat...|\n",
            "|12015|Was gr8 to see th...|\n",
            "|12016|I have no idea wh...|\n",
            "|12017|Hello which the s...|\n",
            "|12018|U studying in sch...|\n",
            "|12019|Thank you. I like...|\n",
            "+-----+--------------------+\n",
            "only showing top 20 rows\n",
            "\n"
          ],
          "name": "stdout"
        }
      ]
    },
    {
      "cell_type": "code",
      "metadata": {
        "id": "gBDzncvmMcK-"
      },
      "source": [
        "result_kaggle = pipelineModel.transform(df_test) "
      ],
      "execution_count": 79,
      "outputs": []
    },
    {
      "cell_type": "code",
      "metadata": {
        "colab": {
          "base_uri": "https://localhost:8080/"
        },
        "id": "GE82iWlhMeR8",
        "outputId": "750c092d-fa59-46f4-f7a0-87a02144c503"
      },
      "source": [
        "result_kaggle.show()"
      ],
      "execution_count": 80,
      "outputs": [
        {
          "output_type": "stream",
          "text": [
            "+-----+--------------------+--------------------+--------------------+--------------------+\n",
            "|   id|            sms_text|            document| sentence_embeddings|               class|\n",
            "+-----+--------------------+--------------------+--------------------+--------------------+\n",
            "|12000|HOT LIVE FANTASIE...|[[document, 0, 10...|[[sentence_embedd...|[[category, 0, 10...|\n",
            "|12001|I not at home now...|[[document, 0, 23...|[[sentence_embedd...|[[category, 0, 23...|\n",
            "|12002|So how's scotland...|[[document, 0, 94...|[[sentence_embedd...|[[category, 0, 94...|\n",
            "|12003|Yo you around? A ...|[[document, 0, 64...|[[sentence_embedd...|[[category, 0, 64...|\n",
            "|12004|I'm aight. Wat's ...|[[document, 0, 39...|[[sentence_embedd...|[[category, 0, 39...|\n",
            "|12005|SMS. ac Sptv: The...|[[document, 0, 11...|[[sentence_embedd...|[[category, 0, 11...|\n",
            "|12006|I'm taking derek ...|[[document, 0, 14...|[[sentence_embedd...|[[category, 0, 14...|\n",
            "|12007|Okay name ur pric...|[[document, 0, 80...|[[sentence_embedd...|[[category, 0, 80...|\n",
            "|12008|Kallis is ready f...|[[document, 0, 37...|[[sentence_embedd...|[[category, 0, 37...|\n",
            "|12009|I'll get there at...|[[document, 0, 68...|[[sentence_embedd...|[[category, 0, 68...|\n",
            "|12010|Shall i come to g...|[[document, 0, 25...|[[sentence_embedd...|[[category, 0, 25...|\n",
            "|12011|Carry on not dist...|[[document, 0, 34...|[[sentence_embedd...|[[category, 0, 34...|\n",
            "|12012|Hi dis is yijue i...|[[document, 0, 64...|[[sentence_embedd...|[[category, 0, 64...|\n",
            "|12013|I need... Coz i n...|[[document, 0, 31...|[[sentence_embedd...|[[category, 0, 31...|\n",
            "|12014|SMS. ac Blind Dat...|[[document, 0, 14...|[[sentence_embedd...|[[category, 0, 14...|\n",
            "|12015|Was gr8 to see th...|[[document, 0, 95...|[[sentence_embedd...|[[category, 0, 95...|\n",
            "|12016|I have no idea wh...|[[document, 0, 27...|[[sentence_embedd...|[[category, 0, 27...|\n",
            "|12017|Hello which the s...|[[document, 0, 52...|[[sentence_embedd...|[[category, 0, 52...|\n",
            "|12018|U studying in sch...|[[document, 0, 64...|[[sentence_embedd...|[[category, 0, 64...|\n",
            "|12019|Thank you. I like...|[[document, 0, 31...|[[sentence_embedd...|[[category, 0, 31...|\n",
            "+-----+--------------------+--------------------+--------------------+--------------------+\n",
            "only showing top 20 rows\n",
            "\n"
          ],
          "name": "stdout"
        }
      ]
    },
    {
      "cell_type": "code",
      "metadata": {
        "id": "vc99Q4lOMhVW"
      },
      "source": [
        "res_kaggle = result_kaggle.select(F.explode(F.arrays_zip('document.result', 'class.result')).alias(\"cols\")) \\\r\n",
        "            .select(F.expr(\"cols['0']\").alias(\"document\"),\r\n",
        "            F.expr(\"cols['1']\").alias(\"class\"))"
      ],
      "execution_count": 81,
      "outputs": []
    },
    {
      "cell_type": "code",
      "metadata": {
        "colab": {
          "base_uri": "https://localhost:8080/"
        },
        "id": "RyRwz4FXMl28",
        "outputId": "ccf74b9a-591e-423c-fa38-a19495012f5f"
      },
      "source": [
        "res_kaggle.show()"
      ],
      "execution_count": 82,
      "outputs": [
        {
          "output_type": "stream",
          "text": [
            "+--------------------+-----+\n",
            "|            document|class|\n",
            "+--------------------+-----+\n",
            "|HOT LIVE FANTASIE...| spam|\n",
            "|I not at home now...|  ham|\n",
            "|So how's scotland...|  ham|\n",
            "|Yo you around? A ...|  ham|\n",
            "|I'm aight. Wat's ...|  ham|\n",
            "|SMS. ac Sptv: The...| spam|\n",
            "|I'm taking derek ...|  ham|\n",
            "|Okay name ur pric...|  ham|\n",
            "|Kallis is ready f...|  ham|\n",
            "|I'll get there at...|  ham|\n",
            "|Shall i come to g...|  ham|\n",
            "|Carry on not dist...|  ham|\n",
            "|Hi dis is yijue i...|  ham|\n",
            "|I need... Coz i n...|  ham|\n",
            "|SMS. ac Blind Dat...| spam|\n",
            "|Was gr8 to see th...|  ham|\n",
            "|I have no idea wh...|  ham|\n",
            "|Hello which the s...|  ham|\n",
            "|U studying in sch...|  ham|\n",
            "|Thank you. I like...|  ham|\n",
            "+--------------------+-----+\n",
            "only showing top 20 rows\n",
            "\n"
          ],
          "name": "stdout"
        }
      ]
    },
    {
      "cell_type": "code",
      "metadata": {
        "id": "m48U1oetMmbP"
      },
      "source": [
        "from pyspark.sql.functions import row_number,lit\r\n",
        "from pyspark.sql.window import Window\r\n",
        "w = Window().orderBy(lit('A'))\r\n",
        "res_kaggle = res_kaggle.withColumn(\"id\",12000+row_number().over(w)-1)"
      ],
      "execution_count": 83,
      "outputs": []
    },
    {
      "cell_type": "code",
      "metadata": {
        "colab": {
          "base_uri": "https://localhost:8080/"
        },
        "id": "NSQL-FXlMqps",
        "outputId": "dd1d27a9-c6b1-4ab3-b1dc-a7386588b5ef"
      },
      "source": [
        "res_kaggle.show()"
      ],
      "execution_count": 84,
      "outputs": [
        {
          "output_type": "stream",
          "text": [
            "+--------------------+-----+-----+\n",
            "|            document|class|   id|\n",
            "+--------------------+-----+-----+\n",
            "|HOT LIVE FANTASIE...| spam|12000|\n",
            "|I not at home now...|  ham|12001|\n",
            "|So how's scotland...|  ham|12002|\n",
            "|Yo you around? A ...|  ham|12003|\n",
            "|I'm aight. Wat's ...|  ham|12004|\n",
            "|SMS. ac Sptv: The...| spam|12005|\n",
            "|I'm taking derek ...|  ham|12006|\n",
            "|Okay name ur pric...|  ham|12007|\n",
            "|Kallis is ready f...|  ham|12008|\n",
            "|I'll get there at...|  ham|12009|\n",
            "|Shall i come to g...|  ham|12010|\n",
            "|Carry on not dist...|  ham|12011|\n",
            "|Hi dis is yijue i...|  ham|12012|\n",
            "|I need... Coz i n...|  ham|12013|\n",
            "|SMS. ac Blind Dat...| spam|12014|\n",
            "|Was gr8 to see th...|  ham|12015|\n",
            "|I have no idea wh...|  ham|12016|\n",
            "|Hello which the s...|  ham|12017|\n",
            "|U studying in sch...|  ham|12018|\n",
            "|Thank you. I like...|  ham|12019|\n",
            "+--------------------+-----+-----+\n",
            "only showing top 20 rows\n",
            "\n"
          ],
          "name": "stdout"
        }
      ]
    },
    {
      "cell_type": "code",
      "metadata": {
        "colab": {
          "base_uri": "https://localhost:8080/",
          "height": 402
        },
        "id": "-VtLzgT5MtHL",
        "outputId": "685425d7-e4f7-4a2d-feec-84c1e5ce438b"
      },
      "source": [
        "pd_res_kaggle = res_kaggle.toPandas()\r\n",
        "display(pd_res_kaggle)"
      ],
      "execution_count": 85,
      "outputs": [
        {
          "output_type": "display_data",
          "data": {
            "text/html": [
              "<div>\n",
              "<style scoped>\n",
              "    .dataframe tbody tr th:only-of-type {\n",
              "        vertical-align: middle;\n",
              "    }\n",
              "\n",
              "    .dataframe tbody tr th {\n",
              "        vertical-align: top;\n",
              "    }\n",
              "\n",
              "    .dataframe thead th {\n",
              "        text-align: right;\n",
              "    }\n",
              "</style>\n",
              "<table border=\"1\" class=\"dataframe\">\n",
              "  <thead>\n",
              "    <tr style=\"text-align: right;\">\n",
              "      <th></th>\n",
              "      <th>document</th>\n",
              "      <th>class</th>\n",
              "      <th>id</th>\n",
              "    </tr>\n",
              "  </thead>\n",
              "  <tbody>\n",
              "    <tr>\n",
              "      <th>0</th>\n",
              "      <td>HOT LIVE FANTASIES call now 08707509020 Just 2...</td>\n",
              "      <td>spam</td>\n",
              "      <td>12000</td>\n",
              "    </tr>\n",
              "    <tr>\n",
              "      <th>1</th>\n",
              "      <td>I not at home now lei...</td>\n",
              "      <td>ham</td>\n",
              "      <td>12001</td>\n",
              "    </tr>\n",
              "    <tr>\n",
              "      <th>2</th>\n",
              "      <td>So how's scotland. Hope you are not over showi...</td>\n",
              "      <td>ham</td>\n",
              "      <td>12002</td>\n",
              "    </tr>\n",
              "    <tr>\n",
              "      <th>3</th>\n",
              "      <td>Yo you around? A friend of mine's lookin to pi...</td>\n",
              "      <td>ham</td>\n",
              "      <td>12003</td>\n",
              "    </tr>\n",
              "    <tr>\n",
              "      <th>4</th>\n",
              "      <td>I'm aight. Wat's happening on your side.</td>\n",
              "      <td>ham</td>\n",
              "      <td>12004</td>\n",
              "    </tr>\n",
              "    <tr>\n",
              "      <th>...</th>\n",
              "      <td>...</td>\n",
              "      <td>...</td>\n",
              "      <td>...</td>\n",
              "    </tr>\n",
              "    <tr>\n",
              "      <th>554</th>\n",
              "      <td>You are a great role model. You are giving so ...</td>\n",
              "      <td>ham</td>\n",
              "      <td>12554</td>\n",
              "    </tr>\n",
              "    <tr>\n",
              "      <th>555</th>\n",
              "      <td>Awesome, I remember the last time we got someb...</td>\n",
              "      <td>ham</td>\n",
              "      <td>12555</td>\n",
              "    </tr>\n",
              "    <tr>\n",
              "      <th>556</th>\n",
              "      <td>If you don't, your prize will go to another cu...</td>\n",
              "      <td>spam</td>\n",
              "      <td>12556</td>\n",
              "    </tr>\n",
              "    <tr>\n",
              "      <th>557</th>\n",
              "      <td>SMS. ac JSco: Energy is high, but u may not kn...</td>\n",
              "      <td>ham</td>\n",
              "      <td>12557</td>\n",
              "    </tr>\n",
              "    <tr>\n",
              "      <th>558</th>\n",
              "      <td>Shall call now dear having food</td>\n",
              "      <td>ham</td>\n",
              "      <td>12558</td>\n",
              "    </tr>\n",
              "  </tbody>\n",
              "</table>\n",
              "<p>559 rows × 3 columns</p>\n",
              "</div>"
            ],
            "text/plain": [
              "                                              document class     id\n",
              "0    HOT LIVE FANTASIES call now 08707509020 Just 2...  spam  12000\n",
              "1                             I not at home now lei...   ham  12001\n",
              "2    So how's scotland. Hope you are not over showi...   ham  12002\n",
              "3    Yo you around? A friend of mine's lookin to pi...   ham  12003\n",
              "4             I'm aight. Wat's happening on your side.   ham  12004\n",
              "..                                                 ...   ...    ...\n",
              "554  You are a great role model. You are giving so ...   ham  12554\n",
              "555  Awesome, I remember the last time we got someb...   ham  12555\n",
              "556  If you don't, your prize will go to another cu...  spam  12556\n",
              "557  SMS. ac JSco: Energy is high, but u may not kn...   ham  12557\n",
              "558                    Shall call now dear having food   ham  12558\n",
              "\n",
              "[559 rows x 3 columns]"
            ]
          },
          "metadata": {
            "tags": []
          }
        }
      ]
    },
    {
      "cell_type": "code",
      "metadata": {
        "colab": {
          "base_uri": "https://localhost:8080/",
          "height": 402
        },
        "id": "7175glrnMvQo",
        "outputId": "c9fca5ce-d958-460d-90e9-a0de9df1a57e"
      },
      "source": [
        "pd_res_kaggle['class']=pd_res_kaggle['class'].map(dict(ham=0, spam=1))\r\n",
        "display(pd_res_kaggle)"
      ],
      "execution_count": 86,
      "outputs": [
        {
          "output_type": "display_data",
          "data": {
            "text/html": [
              "<div>\n",
              "<style scoped>\n",
              "    .dataframe tbody tr th:only-of-type {\n",
              "        vertical-align: middle;\n",
              "    }\n",
              "\n",
              "    .dataframe tbody tr th {\n",
              "        vertical-align: top;\n",
              "    }\n",
              "\n",
              "    .dataframe thead th {\n",
              "        text-align: right;\n",
              "    }\n",
              "</style>\n",
              "<table border=\"1\" class=\"dataframe\">\n",
              "  <thead>\n",
              "    <tr style=\"text-align: right;\">\n",
              "      <th></th>\n",
              "      <th>document</th>\n",
              "      <th>class</th>\n",
              "      <th>id</th>\n",
              "    </tr>\n",
              "  </thead>\n",
              "  <tbody>\n",
              "    <tr>\n",
              "      <th>0</th>\n",
              "      <td>HOT LIVE FANTASIES call now 08707509020 Just 2...</td>\n",
              "      <td>1</td>\n",
              "      <td>12000</td>\n",
              "    </tr>\n",
              "    <tr>\n",
              "      <th>1</th>\n",
              "      <td>I not at home now lei...</td>\n",
              "      <td>0</td>\n",
              "      <td>12001</td>\n",
              "    </tr>\n",
              "    <tr>\n",
              "      <th>2</th>\n",
              "      <td>So how's scotland. Hope you are not over showi...</td>\n",
              "      <td>0</td>\n",
              "      <td>12002</td>\n",
              "    </tr>\n",
              "    <tr>\n",
              "      <th>3</th>\n",
              "      <td>Yo you around? A friend of mine's lookin to pi...</td>\n",
              "      <td>0</td>\n",
              "      <td>12003</td>\n",
              "    </tr>\n",
              "    <tr>\n",
              "      <th>4</th>\n",
              "      <td>I'm aight. Wat's happening on your side.</td>\n",
              "      <td>0</td>\n",
              "      <td>12004</td>\n",
              "    </tr>\n",
              "    <tr>\n",
              "      <th>...</th>\n",
              "      <td>...</td>\n",
              "      <td>...</td>\n",
              "      <td>...</td>\n",
              "    </tr>\n",
              "    <tr>\n",
              "      <th>554</th>\n",
              "      <td>You are a great role model. You are giving so ...</td>\n",
              "      <td>0</td>\n",
              "      <td>12554</td>\n",
              "    </tr>\n",
              "    <tr>\n",
              "      <th>555</th>\n",
              "      <td>Awesome, I remember the last time we got someb...</td>\n",
              "      <td>0</td>\n",
              "      <td>12555</td>\n",
              "    </tr>\n",
              "    <tr>\n",
              "      <th>556</th>\n",
              "      <td>If you don't, your prize will go to another cu...</td>\n",
              "      <td>1</td>\n",
              "      <td>12556</td>\n",
              "    </tr>\n",
              "    <tr>\n",
              "      <th>557</th>\n",
              "      <td>SMS. ac JSco: Energy is high, but u may not kn...</td>\n",
              "      <td>0</td>\n",
              "      <td>12557</td>\n",
              "    </tr>\n",
              "    <tr>\n",
              "      <th>558</th>\n",
              "      <td>Shall call now dear having food</td>\n",
              "      <td>0</td>\n",
              "      <td>12558</td>\n",
              "    </tr>\n",
              "  </tbody>\n",
              "</table>\n",
              "<p>559 rows × 3 columns</p>\n",
              "</div>"
            ],
            "text/plain": [
              "                                              document  class     id\n",
              "0    HOT LIVE FANTASIES call now 08707509020 Just 2...      1  12000\n",
              "1                             I not at home now lei...      0  12001\n",
              "2    So how's scotland. Hope you are not over showi...      0  12002\n",
              "3    Yo you around? A friend of mine's lookin to pi...      0  12003\n",
              "4             I'm aight. Wat's happening on your side.      0  12004\n",
              "..                                                 ...    ...    ...\n",
              "554  You are a great role model. You are giving so ...      0  12554\n",
              "555  Awesome, I remember the last time we got someb...      0  12555\n",
              "556  If you don't, your prize will go to another cu...      1  12556\n",
              "557  SMS. ac JSco: Energy is high, but u may not kn...      0  12557\n",
              "558                    Shall call now dear having food      0  12558\n",
              "\n",
              "[559 rows x 3 columns]"
            ]
          },
          "metadata": {
            "tags": []
          }
        }
      ]
    },
    {
      "cell_type": "code",
      "metadata": {
        "id": "JfBBkZy3MyHg"
      },
      "source": [
        "pd_res_kaggle.rename(columns={'class':\"predicted\"},inplace=True)"
      ],
      "execution_count": 87,
      "outputs": []
    },
    {
      "cell_type": "code",
      "metadata": {
        "id": "NdCEG5_2M0ti"
      },
      "source": [
        "\r\n",
        "my_submission = pd.DataFrame({'id': pd_res_kaggle.id, 'predicted': pd_res_kaggle.predicted})\r\n",
        "my_submission.to_csv('test.csv')"
      ],
      "execution_count": 88,
      "outputs": []
    }
  ]
}